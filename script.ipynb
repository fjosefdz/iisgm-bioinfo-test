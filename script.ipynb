
import os
import pandas as pd

root='data'
for folderName, subfolders, filenames in os.walk(root):
    for filename in filenames:
        file_path= os.path.join(folderName, filename)
        # for line in
        
        VCF_HEADER = ['CHROM', 'POS', 'ID', 'REF', 'ALT', 'QUAL', 'FILTER', 'INFO']

        table = pd.read_table(filename, 
                                    #compression='gzip', 
                                    names=VCF_HEADER, 
                                    #skiprows=comments, 
                                    usecols=range(8))
        print(filename)
        print(table)
